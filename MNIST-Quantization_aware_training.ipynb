{
 "cells": [
  {
   "cell_type": "code",
   "execution_count": 1,
   "id": "f059f7e8",
   "metadata": {},
   "outputs": [
    {
     "name": "stdout",
     "output_type": "stream",
     "text": [
      "Requirement already satisfied: tensorflow-model-optimization in c:\\users\\haddr\\anaconda3\\lib\\site-packages (0.7.4)\n",
      "Requirement already satisfied: dm-tree~=0.1.1 in c:\\users\\haddr\\anaconda3\\lib\\site-packages (from tensorflow-model-optimization) (0.1.8)\n",
      "Requirement already satisfied: absl-py~=1.2 in c:\\users\\haddr\\anaconda3\\lib\\site-packages (from tensorflow-model-optimization) (1.3.0)\n",
      "Requirement already satisfied: six~=1.14 in c:\\users\\haddr\\anaconda3\\lib\\site-packages (from tensorflow-model-optimization) (1.16.0)\n",
      "Requirement already satisfied: numpy~=1.23 in c:\\users\\haddr\\anaconda3\\lib\\site-packages (from tensorflow-model-optimization) (1.23.5)\n",
      "Note: you may need to restart the kernel to use updated packages.\n"
     ]
    }
   ],
   "source": [
    "pip install tensorflow-model-optimization"
   ]
  },
  {
   "cell_type": "code",
   "execution_count": 24,
   "id": "73e0b011",
   "metadata": {},
   "outputs": [],
   "source": [
    "import tensorflow as tf\n",
    "import tensorflow_model_optimization as tfmot\n",
    "import numpy as np\n",
    "import keras\n",
    "import os\n",
    "\n",
    "from keras.datasets import mnist\n",
    "from keras.utils import to_categorical"
   ]
  },
  {
   "cell_type": "code",
   "execution_count": 3,
   "id": "51358cc7",
   "metadata": {},
   "outputs": [
    {
     "name": "stdout",
     "output_type": "stream",
     "text": [
      "Model: \"sequential\"\n",
      "_________________________________________________________________\n",
      " Layer (type)                Output Shape              Param #   \n",
      "=================================================================\n",
      " conv2d (Conv2D)             (None, 26, 26, 32)        320       \n",
      "                                                                 \n",
      " max_pooling2d (MaxPooling2D  (None, 13, 13, 32)       0         \n",
      " )                                                               \n",
      "                                                                 \n",
      " conv2d_1 (Conv2D)           (None, 11, 11, 64)        18496     \n",
      "                                                                 \n",
      " max_pooling2d_1 (MaxPooling  (None, 5, 5, 64)         0         \n",
      " 2D)                                                             \n",
      "                                                                 \n",
      " flatten (Flatten)           (None, 1600)              0         \n",
      "                                                                 \n",
      " dense (Dense)               (None, 64)                102464    \n",
      "                                                                 \n",
      " dense_1 (Dense)             (None, 10)                650       \n",
      "                                                                 \n",
      "=================================================================\n",
      "Total params: 121,930\n",
      "Trainable params: 121,930\n",
      "Non-trainable params: 0\n",
      "_________________________________________________________________\n"
     ]
    }
   ],
   "source": [
    "# Charger le modèle Keras à partir du fichier\n",
    "model = tf.keras.models.load_model('mnist_model.h5')\n",
    "\n",
    "# Afficher les détails du modèle\n",
    "model.summary()"
   ]
  },
  {
   "cell_type": "code",
   "execution_count": 4,
   "id": "3b3032f2",
   "metadata": {},
   "outputs": [
    {
     "name": "stdout",
     "output_type": "stream",
     "text": [
      "Model: \"sequential\"\n",
      "_________________________________________________________________\n",
      " Layer (type)                Output Shape              Param #   \n",
      "=================================================================\n",
      " quantize_annotate (Quantize  (None, 26, 26, 32)       320       \n",
      " Annotate)                                                       \n",
      "                                                                 \n",
      " quantize_annotate_1 (Quanti  (None, 13, 13, 32)       0         \n",
      " zeAnnotate)                                                     \n",
      "                                                                 \n",
      " quantize_annotate_2 (Quanti  (None, 11, 11, 64)       18496     \n",
      " zeAnnotate)                                                     \n",
      "                                                                 \n",
      " quantize_annotate_3 (Quanti  (None, 5, 5, 64)         0         \n",
      " zeAnnotate)                                                     \n",
      "                                                                 \n",
      " quantize_annotate_4 (Quanti  (None, 1600)             0         \n",
      " zeAnnotate)                                                     \n",
      "                                                                 \n",
      " quantize_annotate_5 (Quanti  (None, 64)               102464    \n",
      " zeAnnotate)                                                     \n",
      "                                                                 \n",
      " quantize_annotate_6 (Quanti  (None, 10)               650       \n",
      " zeAnnotate)                                                     \n",
      "                                                                 \n",
      "=================================================================\n",
      "Total params: 121,930\n",
      "Trainable params: 121,930\n",
      "Non-trainable params: 0\n",
      "_________________________________________________________________\n"
     ]
    }
   ],
   "source": [
    "# Annoter les couches du modèle avec des informations de quantification\n",
    "qat_model = tfmot.quantization.keras.quantize_annotate_model(model)\n",
    "\n",
    "# Compiler le modèle\n",
    "qat_model.compile(optimizer='adam', loss='sparse_categorical_crossentropy', metrics=['accuracy'])\n",
    "\n",
    "# Afficher les détails du modèle\n",
    "qat_model.summary()"
   ]
  },
  {
   "cell_type": "markdown",
   "id": "844bb603",
   "metadata": {},
   "source": [
    "La fonction quantize_annotate_model() utilisée dans le code précédent ajoute des annotations de quantification aux couches du modèle, mais cela ne suffit pas à quantifier réellement le modèle. Les annotations de quantification sont simplement des marqueurs pour indiquer au modèle comment effectuer la quantification lors de l'entraînement."
   ]
  },
  {
   "cell_type": "code",
   "execution_count": 5,
   "id": "7d7636e4",
   "metadata": {},
   "outputs": [],
   "source": [
    "# Charger les données MNIST\n",
    "(x_train, y_train), (x_test, y_test) = tf.keras.datasets.mnist.load_data()"
   ]
  },
  {
   "cell_type": "code",
   "execution_count": 6,
   "id": "fadebe07",
   "metadata": {},
   "outputs": [],
   "source": [
    "# Normaliser les données\n",
    "x_train = x_train / 255.0\n",
    "x_test = x_test / 255.0"
   ]
  },
  {
   "cell_type": "code",
   "execution_count": 7,
   "id": "ec3ee5aa",
   "metadata": {},
   "outputs": [],
   "source": [
    "# Réduire la taille du jeu de données\n",
    "x_train = x_train[:10000]\n",
    "y_train = y_train[:10000]\n",
    "x_test = x_test[:2000]\n",
    "y_test = y_test[:2000]"
   ]
  },
  {
   "cell_type": "code",
   "execution_count": 8,
   "id": "b33e5b5e",
   "metadata": {},
   "outputs": [
    {
     "name": "stdout",
     "output_type": "stream",
     "text": [
      "Epoch 1/2\n",
      "313/313 [==============================] - 5s 12ms/step - loss: 0.0220 - accuracy: 0.9930 - val_loss: 0.0782 - val_accuracy: 0.9805\n",
      "Epoch 2/2\n",
      "313/313 [==============================] - 3s 11ms/step - loss: 0.0109 - accuracy: 0.9963 - val_loss: 0.0544 - val_accuracy: 0.9815\n"
     ]
    },
    {
     "data": {
      "text/plain": [
       "<keras.callbacks.History at 0x20060e66cb0>"
      ]
     },
     "execution_count": 8,
     "metadata": {},
     "output_type": "execute_result"
    }
   ],
   "source": [
    "# Réentraîner le modèle sur un sous-ensemble des données\n",
    "qat_model.fit(x_train, y_train, batch_size=32, epochs=2, validation_data=(x_test, y_test))"
   ]
  },
  {
   "cell_type": "code",
   "execution_count": 9,
   "id": "469a4491",
   "metadata": {},
   "outputs": [
    {
     "name": "stdout",
     "output_type": "stream",
     "text": [
      "313/313 - 1s - loss: 0.0030 - accuracy: 0.9997 - 1s/epoch - 4ms/step\n",
      "63/63 - 0s - loss: 0.0544 - accuracy: 0.9815 - 249ms/epoch - 4ms/step\n",
      "Train accuracy: 0.9997, Test accuracy: 0.9815\n"
     ]
    }
   ],
   "source": [
    "# Évaluer le modèle sur le jeu de données d'entraînement et de test\n",
    "train_loss, train_acc = qat_model.evaluate(x_train, y_train, verbose=2)\n",
    "test_loss, test_acc = qat_model.evaluate(x_test, y_test, verbose=2)\n",
    "print(f'Train accuracy: {train_acc:.4f}, Test accuracy: {test_acc:.4f}')"
   ]
  },
  {
   "cell_type": "code",
   "execution_count": 10,
   "id": "7469d22a",
   "metadata": {},
   "outputs": [
    {
     "name": "stderr",
     "output_type": "stream",
     "text": [
      "WARNING:absl:Found untraced functions such as conv2d_layer_call_fn, conv2d_layer_call_and_return_conditional_losses, _jit_compiled_convolution_op, conv2d_1_layer_call_fn, conv2d_1_layer_call_and_return_conditional_losses while saving (showing 5 of 12). These functions will not be directly callable after loading.\n"
     ]
    },
    {
     "name": "stdout",
     "output_type": "stream",
     "text": [
      "INFO:tensorflow:Assets written to: C:\\Users\\haddr\\AppData\\Local\\Temp\\tmp5s_7wy25\\assets\n"
     ]
    },
    {
     "name": "stderr",
     "output_type": "stream",
     "text": [
      "INFO:tensorflow:Assets written to: C:\\Users\\haddr\\AppData\\Local\\Temp\\tmp5s_7wy25\\assets\n"
     ]
    }
   ],
   "source": [
    "# Convertir le modèle TFLite\n",
    "converter = tf.lite.TFLiteConverter.from_keras_model(qat_model)\n",
    "converter.optimizations = [tf.lite.Optimize.DEFAULT]\n",
    "tflite_model_quant = converter.convert()\n",
    "\n",
    "# Sauvegarder le modèle TFLite\n",
    "with open('qat_model.tflite', 'wb') as f:\n",
    "    f.write(tflite_model_quant)"
   ]
  },
  {
   "cell_type": "code",
   "execution_count": 11,
   "id": "ca5372be",
   "metadata": {},
   "outputs": [],
   "source": [
    "# Sauvegarder le modèle QAT\n",
    "qat_model.save('qat_model.h5')"
   ]
  },
  {
   "cell_type": "code",
   "execution_count": 45,
   "id": "d6e356e0",
   "metadata": {},
   "outputs": [
    {
     "name": "stdout",
     "output_type": "stream",
     "text": [
      "Taille du modèle Keras : 994.52 Ko\n",
      "Taille du modèle quantifié : 126.74 Ko\n",
      "Taille du modèle QAT : 1474.07 Ko\n"
     ]
    }
   ],
   "source": [
    "keras_model_size = os.path.getsize('mnist_model.h5')\n",
    "print(\"Taille du modèle Keras : {:.2f} Ko\".format(keras_model_size / 1024))\n",
    "\n",
    "quantized_model_size = os.path.getsize('qat_model.tflite')\n",
    "print(\"Taille du modèle quantifié : {:.2f} Ko\".format(quantized_model_size / 1024))\n",
    "\n",
    "qat_model_size = os.path.getsize('qat_model.h5')\n",
    "print(\"Taille du modèle QAT : {:.2f} Ko\".format(qat_model_size / 1024))"
   ]
  },
  {
   "cell_type": "code",
   "execution_count": 13,
   "id": "b8465b49",
   "metadata": {},
   "outputs": [],
   "source": [
    "(x_train, y_train), (x_test, y_test) = tf.keras.datasets.mnist.load_data()"
   ]
  },
  {
   "cell_type": "code",
   "execution_count": 14,
   "id": "65e512b3",
   "metadata": {},
   "outputs": [],
   "source": [
    "x_train = x_train / 255.0\n",
    "x_test = x_test / 255.0"
   ]
  },
  {
   "cell_type": "code",
   "execution_count": 15,
   "id": "4770e1cc",
   "metadata": {},
   "outputs": [],
   "source": [
    "x_train = x_train[:10000]\n",
    "y_train = y_train[:10000]\n",
    "x_test = x_test[:2000]\n",
    "y_test = y_test[:2000]"
   ]
  },
  {
   "cell_type": "code",
   "execution_count": 25,
   "id": "1f21e0af",
   "metadata": {},
   "outputs": [],
   "source": [
    "(train_images, train_labels), (test_images, test_labels) = mnist.load_data()\n",
    "\n",
    "train_images = train_images.reshape((60000, 28, 28, 1))\n",
    "train_images = train_images.astype('float32') / 255\n",
    "\n",
    "test_images = test_images.reshape((10000, 28, 28, 1))\n",
    "test_images = test_images.astype('float32') / 255\n",
    "\n",
    "train_labels = to_categorical(train_labels)\n",
    "test_labels = to_categorical(test_labels)"
   ]
  },
  {
   "cell_type": "code",
   "execution_count": 38,
   "id": "83512cf1",
   "metadata": {},
   "outputs": [],
   "source": [
    "mnist = keras.datasets.mnist\n",
    "(train_images, train_labels), (test_images, test_labels) = mnist.load_data()"
   ]
  },
  {
   "cell_type": "code",
   "execution_count": 39,
   "id": "183fcae4",
   "metadata": {},
   "outputs": [],
   "source": [
    "train_images = train_images / 255.0\n",
    "test_images = test_images / 255.0"
   ]
  },
  {
   "cell_type": "code",
   "execution_count": 40,
   "id": "0350b863",
   "metadata": {},
   "outputs": [],
   "source": [
    "interpreter = tf.lite.Interpreter(model_path=\"model_optimized.tflite\")\n",
    "interpreter.allocate_tensors()\n",
    "input_index = interpreter.get_input_details()[0][\"index\"]\n",
    "output_index = interpreter.get_output_details()[0][\"index\"]"
   ]
  },
  {
   "cell_type": "code",
   "execution_count": 34,
   "id": "c9a117d3",
   "metadata": {},
   "outputs": [
    {
     "name": "stdout",
     "output_type": "stream",
     "text": [
      "313/313 [==============================] - 2s 7ms/step - loss: 0.0351 - accuracy: 0.9884\n",
      "\"Accuracy du modèle original : {:.4f} 0.9883999824523926\n"
     ]
    }
   ],
   "source": [
    "test_loss, test_acc = model.evaluate(test_images, test_labels)\n",
    "print('\"Accuracy du modèle original : {:.4f}', test_acc)"
   ]
  },
  {
   "cell_type": "code",
   "execution_count": 42,
   "id": "285b3c0e",
   "metadata": {},
   "outputs": [
    {
     "name": "stdout",
     "output_type": "stream",
     "text": [
      "Accuracy: 0.1135\n"
     ]
    }
   ],
   "source": [
    "correct_predictions = 0\n",
    "for i in range(len(test_images)):\n",
    "    # Préparer l'image\n",
    "    input_shape = interpreter.get_input_details()[0]['shape']\n",
    "    input_data = np.expand_dims(test_images[i], axis=0)\n",
    "    input_data = np.resize(input_data, input_shape).astype(np.float32)\n",
    "    interpreter.set_tensor(input_index, input_data)\n",
    "\n",
    "\n",
    "    # Récupérer la prédiction\n",
    "    output = interpreter.tensor(output_index)\n",
    "    prediction = np.argmax(output()[0])\n",
    "\n",
    "    # Vérifier si la prédiction est correcte\n",
    "    if prediction == test_labels[i]:\n",
    "        correct_predictions += 1\n",
    "\n",
    "accuracy = correct_predictions / len(test_images)\n",
    "print(\"Accuracy:\", accuracy)\n"
   ]
  },
  {
   "cell_type": "code",
   "execution_count": 43,
   "id": "6ebfdc42",
   "metadata": {},
   "outputs": [
    {
     "name": "stdout",
     "output_type": "stream",
     "text": [
      "63/63 - 0s - loss: 0.0544 - accuracy: 0.9815 - 213ms/epoch - 3ms/step\n",
      "Test accuracy: 0.9815\n"
     ]
    }
   ],
   "source": [
    "# Évaluer le modèle sur le jeu de données d'entraînement et de test\n",
    "test_loss, test_acc = qat_model.evaluate(x_test, y_test, verbose=2)\n",
    "print(f'Test accuracy: {test_acc:.4f}')"
   ]
  },
  {
   "cell_type": "code",
   "execution_count": 47,
   "id": "ece96c15",
   "metadata": {},
   "outputs": [
    {
     "name": "stdout",
     "output_type": "stream",
     "text": [
      "Taille du modèle original : 994.52 Ko\n",
      "Taille du modèle quantifié avec la post training quantization : 126.45 Ko\n",
      "Taille du modèle entraîné avec la training aware quantization : 1474.07 Ko\n"
     ]
    }
   ],
   "source": [
    "original_model_size = os.path.getsize('mnist_model.h5') / 1024\n",
    "print(\"Taille du modèle original : {:.2f} Ko\".format(original_model_size))\n",
    "\n",
    "quantized_model_size = os.path.getsize('model_optimized.tflite') / 1024\n",
    "print(\"Taille du modèle quantifié avec la post training quantization : {:.2f} Ko\".format(quantized_model_size))\n",
    "\n",
    "qat_model_size = os.path.getsize('qat_model.h5') / 1024\n",
    "print(\"Taille du modèle entraîné avec la training aware quantization : {:.2f} Ko\".format(qat_model_size))"
   ]
  }
 ],
 "metadata": {
  "kernelspec": {
   "display_name": "Python 3 (ipykernel)",
   "language": "python",
   "name": "python3"
  },
  "language_info": {
   "codemirror_mode": {
    "name": "ipython",
    "version": 3
   },
   "file_extension": ".py",
   "mimetype": "text/x-python",
   "name": "python",
   "nbconvert_exporter": "python",
   "pygments_lexer": "ipython3",
   "version": "3.10.9"
  }
 },
 "nbformat": 4,
 "nbformat_minor": 5
}
